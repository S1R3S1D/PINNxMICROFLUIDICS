{
  "cells": [
    {
      "cell_type": "markdown",
      "metadata": {
        "id": "view-in-github",
        "colab_type": "text"
      },
      "source": [
        "<a href=\"https://colab.research.google.com/github/S1R3S1D/PINNxMICROFLUIDICS/blob/main/Couette_Flow_NSFnet.ipynb\" target=\"_parent\"><img src=\"https://colab.research.google.com/assets/colab-badge.svg\" alt=\"Open In Colab\"/></a>"
      ]
    },
    {
      "cell_type": "code",
      "execution_count": 2,
      "metadata": {
        "id": "W-mvqWh6lY-L"
      },
      "outputs": [],
      "source": [
        "import torch\n",
        "from torch import nn\n",
        "import matplotlib.pyplot as plt\n",
        "import numpy as np\n",
        "from tqdm import tqdm\n",
        "from mpl_toolkits import mplot3d"
      ]
    },
    {
      "cell_type": "code",
      "execution_count": 3,
      "metadata": {
        "colab": {
          "base_uri": "https://localhost:8080/",
          "height": 265
        },
        "id": "lAV4_MktmtPe",
        "outputId": "284ad4a2-b8ed-4846-e544-eab5ccd04953"
      },
      "outputs": [
        {
          "output_type": "display_data",
          "data": {
            "text/plain": [
              "<Figure size 432x288 with 1 Axes>"
            ],
            "image/png": "[encoded data removed]"
          },
          "metadata": {
            "needs_background": "light"
          }
        }
      ],
      "source": [
        "#Cloud Generator\n",
        "\n",
        "domain_X = [-.5, .5]\n",
        "domain_Y = [0, 1]\n",
        "\n",
        "rng = np.random.default_rng(123)\n",
        "\n",
        "def cloud(size=128):\n",
        "  \n",
        "  #interior\n",
        "  X = rng.uniform(domain_X[0], domain_X[1], size)\n",
        "  Y = rng.uniform(domain_Y[0], domain_Y[1], size)\n",
        "\n",
        "  return (X, Y)\n",
        "\n",
        "#Random Plotting in Domain\n",
        "x, y = cloud(128)\n",
        "plt.scatter(x, np.zeros_like(x), color='orange')\n",
        "plt.scatter(x, np.ones_like(x), color='red')\n",
        "plt.scatter(x, y)\n",
        "plt.show()"
      ]
    },
    {
      "cell_type": "code",
      "execution_count": 16,
      "metadata": {
        "id": "nQMnPX_3nY-c"
      },
      "outputs": [],
      "source": [
        "class NSFnet_VP(nn.Module):\n",
        "  def __init__(self):\n",
        "    super().__init__()\n",
        "\n",
        "    self.FC1 = nn.Linear(2, 64)\n",
        "    self.AC1 = nn.Tanh()\n",
        "\n",
        "    self.FC2 = nn.Linear(64, 128)\n",
        "    self.AC2 = nn.Tanh()\n",
        "\n",
        "    self.FC3 = nn.Linear(128, 2)\n",
        "\n",
        "  def forward(self, x):\n",
        "    out = self.AC1(self.FC1(x))\n",
        "    out = self.AC2(self.FC2(out))\n",
        "    out = self.FC3(out)\n",
        "    return out"
      ]
    },
    {
      "cell_type": "code",
      "execution_count": 17,
      "metadata": {
        "id": "CNiRg2M3oOyU"
      },
      "outputs": [],
      "source": [
        "model = NSFnet_VP()\n",
        "lr=0.01\n",
        "optimizer = torch.optim.Adam(model.parameters(), lr)\n",
        "epochs = 10000"
      ]
    },
    {
      "cell_type": "code",
      "execution_count": 18,
      "metadata": {
        "colab": {
          "base_uri": "https://localhost:8080/"
        },
        "id": "Pjk78gD9oaVi",
        "outputId": "152c4d9f-3931-42a9-e31f-a07ca2082117"
      },
      "outputs": [
        {
          "output_type": "stream",
          "name": "stderr",
          "text": [
            "  0%|          | 20/10000 [00:00<01:43, 96.43it/s]"
          ]
        },
        {
          "output_type": "stream",
          "name": "stdout",
          "text": [
            "PDE Loss: 1279680.875 , Boundary Loss: 2852.49755859375\n"
          ]
        },
        {
          "output_type": "stream",
          "name": "stderr",
          "text": [
            " 10%|█         | 1020/10000 [00:10<01:30, 99.02it/s]"
          ]
        },
        {
          "output_type": "stream",
          "name": "stdout",
          "text": [
            "PDE Loss: 260.9871826171875 , Boundary Loss: 55.47825241088867\n"
          ]
        },
        {
          "output_type": "stream",
          "name": "stderr",
          "text": [
            " 20%|██        | 2016/10000 [00:20<01:19, 100.39it/s]"
          ]
        },
        {
          "output_type": "stream",
          "name": "stdout",
          "text": [
            "PDE Loss: 93.82308959960938 , Boundary Loss: 15.467154502868652\n"
          ]
        },
        {
          "output_type": "stream",
          "name": "stderr",
          "text": [
            " 30%|███       | 3017/10000 [00:30<01:12, 96.64it/s]"
          ]
        },
        {
          "output_type": "stream",
          "name": "stdout",
          "text": [
            "PDE Loss: 77.89093780517578 , Boundary Loss: 8.485267639160156\n"
          ]
        },
        {
          "output_type": "stream",
          "name": "stderr",
          "text": [
            " 40%|████      | 4017/10000 [00:43<01:02, 95.89it/s]"
          ]
        },
        {
          "output_type": "stream",
          "name": "stdout",
          "text": [
            "PDE Loss: 7.731398582458496 , Boundary Loss: 0.3911493122577667\n"
          ]
        },
        {
          "output_type": "stream",
          "name": "stderr",
          "text": [
            " 50%|█████     | 5012/10000 [00:53<00:51, 96.23it/s]"
          ]
        },
        {
          "output_type": "stream",
          "name": "stdout",
          "text": [
            "PDE Loss: 15.618690490722656 , Boundary Loss: 4.684292316436768\n"
          ]
        },
        {
          "output_type": "stream",
          "name": "stderr",
          "text": [
            " 60%|██████    | 6019/10000 [01:04<00:40, 98.89it/s]"
          ]
        },
        {
          "output_type": "stream",
          "name": "stdout",
          "text": [
            "PDE Loss: 50.50252151489258 , Boundary Loss: 9.400203704833984\n"
          ]
        },
        {
          "output_type": "stream",
          "name": "stderr",
          "text": [
            " 70%|███████   | 7016/10000 [01:14<00:29, 99.92it/s]"
          ]
        },
        {
          "output_type": "stream",
          "name": "stdout",
          "text": [
            "PDE Loss: 60.94876480102539 , Boundary Loss: 2.177893877029419\n"
          ]
        },
        {
          "output_type": "stream",
          "name": "stderr",
          "text": [
            " 80%|████████  | 8013/10000 [01:24<00:20, 94.64it/s]"
          ]
        },
        {
          "output_type": "stream",
          "name": "stdout",
          "text": [
            "PDE Loss: 7.383665561676025 , Boundary Loss: 0.41527336835861206\n"
          ]
        },
        {
          "output_type": "stream",
          "name": "stderr",
          "text": [
            " 90%|█████████ | 9016/10000 [01:34<00:10, 95.02it/s]"
          ]
        },
        {
          "output_type": "stream",
          "name": "stdout",
          "text": [
            "PDE Loss: 107.6478271484375 , Boundary Loss: 12.527738571166992\n"
          ]
        },
        {
          "output_type": "stream",
          "name": "stderr",
          "text": [
            "100%|██████████| 10000/10000 [01:45<00:00, 94.47it/s]"
          ]
        },
        {
          "output_type": "stream",
          "name": "stdout",
          "text": [
            "PDE Loss: 2.998605251312256 , Boundary Loss: 0.33087170124053955\n"
          ]
        },
        {
          "output_type": "stream",
          "name": "stderr",
          "text": [
            "\n"
          ]
        }
      ],
      "source": [
        "for epoch in tqdm(range(epochs)):\n",
        "\n",
        "  #Data\n",
        "  size = 128\n",
        "  x_sample, y_sample = cloud(size)\n",
        "  x_t = torch.tensor(x_sample, dtype=torch.float, requires_grad=True)\n",
        "  y_t = torch.tensor(y_sample, dtype=torch.float, requires_grad=True)\n",
        "  data = torch.stack([torch.cat([x_t, x_t, x_t], dim=0), torch.cat([y_t, torch.ones_like(y_t), torch.zeros_like(y_t)])], dim=1)\n",
        "\n",
        "  #PDE Predictions\n",
        "  preds = model(data)\n",
        "  u_preds = preds[:size, 0]#Velocity\n",
        "  p_preds = preds[:size, 1]#Pressure\n",
        "\n",
        "  #Differentials\n",
        "  du_dx = torch.autograd.grad(u_preds, x_t, torch.ones_like(u_preds), create_graph=True, retain_graph=True)[0]\n",
        "  du_dy = torch.autograd.grad(u_preds, y_t, torch.ones_like(u_preds), create_graph=True, retain_graph=True)[0]\n",
        "  d2u_dy2 = torch.autograd.grad(du_dy, y_t, torch.ones_like(u_preds), create_graph=True, retain_graph=True)[0]\n",
        "\n",
        "  dp_dx = torch.autograd.grad(p_preds, x_t, torch.ones_like(p_preds), create_graph=True, retain_graph=True)[0]\n",
        "  dp_dy = torch.autograd.grad(p_preds, y_t, torch.ones_like(p_preds), create_graph=True, retain_graph=True)[0]\n",
        "\n",
        "  #Losses\n",
        "  mu = 1\n",
        "\n",
        "  #PDE_Loss\n",
        "  loss = torch.sum(du_dx**2)\n",
        "  loss = loss + torch.sum(dp_dy**2)\n",
        "  loss = loss + torch.sum((dp_dx-100)**2)\n",
        "  loss = loss + torch.sum((dp_dx-mu*(d2u_dy2))**2)\n",
        "  loss_p = loss\n",
        "\n",
        "  #Boundary Loss\n",
        "  v = -5\n",
        "  loss = torch.sum((preds[size:size*2,0]-v)**2)\n",
        "  loss = loss+torch.sum((preds[size*2:size*3,0])**2)\n",
        "  loss_b = loss\n",
        "\n",
        "  alpha_b = 0.01\n",
        "\n",
        "  #Total loss\n",
        "  loss = loss_p + alpha_b*loss_b \n",
        "\n",
        "  if(epoch%1000==0 or epoch==9999):\n",
        "    print(\"PDE Loss:\", loss_p.item(), \", Boundary Loss:\", loss_b.item())\n",
        "\n",
        "  optimizer.zero_grad()\n",
        "  loss.backward()\n",
        "  optimizer.step()"
      ]
    },
    {
      "cell_type": "code",
      "execution_count": 19,
      "metadata": {
        "colab": {
          "base_uri": "https://localhost:8080/",
          "height": 541
        },
        "id": "DpRLGwbjqF1Y",
        "outputId": "1cdcf868-388b-44d3-fac2-e4e1a8ed78b9"
      },
      "outputs": [
        {
          "output_type": "display_data",
          "data": {
            "text/plain": [
              "<Figure size 432x288 with 1 Axes>"
            ],
            "image/png": "[encoded data removed]"
          },
          "metadata": {
            "needs_background": "light"
          }
        },
        {
          "output_type": "display_data",
          "data": {
            "text/plain": [
              "<Figure size 432x288 with 1 Axes>"
            ],
            "image/png": "[encoded data removed]"
          },
          "metadata": {
            "needs_background": "light"
          }
        }
      ],
      "source": [
        "#Plotting Results\n",
        "\n",
        "y = np.linspace(domain_Y[0], domain_Y[1], 100)\n",
        "x = np.zeros_like(y)\n",
        "\n",
        "x_t = torch.tensor(x, dtype=torch.float)\n",
        "y_t = torch.tensor(y, dtype=torch.float)\n",
        "\n",
        "with torch.no_grad():\n",
        "  preds = model(torch.stack([x_t, y_t], dim=1))\n",
        "\n",
        "u_preds = preds[:, 0].numpy()\n",
        "p_preds = preds[:, 1].numpy()\n",
        "\n",
        "plt.plot(y, u_preds,)\n",
        "plt.xlabel('Y')\n",
        "plt.ylabel('Velocity')\n",
        "plt.show()\n",
        "\n",
        "plt.plot(y, p_preds)\n",
        "plt.xlabel('Y')\n",
        "plt.ylabel('Pressure')\n",
        "plt.show()"
      ]
    },
    {
      "cell_type": "code",
      "execution_count": null,
      "metadata": {
        "id": "zzOBJwzSyCLz"
      },
      "outputs": [],
      "source": []
    }
  ],
  "metadata": {
    "colab": {
      "collapsed_sections": [],
      "provenance": [],
      "authorship_tag": "ABX9TyMRpiMErKPNyjzELTN/lRHs",
      "include_colab_link": true
    },
    "kernelspec": {
      "display_name": "Python 3",
      "name": "python3"
    },
    "language_info": {
      "name": "python"
    }
  },
  "nbformat": 4,
  "nbformat_minor": 0
}