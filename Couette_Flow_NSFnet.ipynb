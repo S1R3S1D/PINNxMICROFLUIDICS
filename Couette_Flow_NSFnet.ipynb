{
  "cells": [
    {
      "cell_type": "markdown",
      "metadata": {
        "id": "view-in-github",
        "colab_type": "text"
      },
      "source": [
        "<a href=\"https://colab.research.google.com/github/S1R3S1D/PINNxMICROFLUIDICS/blob/main/Couette_Flow_NSFnet.ipynb\" target=\"_parent\"><img src=\"https://colab.research.google.com/assets/colab-badge.svg\" alt=\"Open In Colab\"/></a>"
      ]
    },
    {
      "cell_type": "code",
      "execution_count": 55,
      "metadata": {
        "id": "W-mvqWh6lY-L"
      },
      "outputs": [],
      "source": [
        "import torch\n",
        "from torch import nn\n",
        "import matplotlib.pyplot as plt\n",
        "import numpy as np\n",
        "from tqdm import tqdm\n",
        "from mpl_toolkits import mplot3d"
      ]
    },
    {
      "cell_type": "code",
      "execution_count": 141,
      "metadata": {
        "colab": {
          "base_uri": "https://localhost:8080/",
          "height": 265
        },
        "id": "lAV4_MktmtPe",
        "outputId": "65c9716e-555b-444f-c1fd-201b397956da"
      },
      "outputs": [
        {
          "output_type": "display_data",
          "data": {
            "text/plain": [
              "<Figure size 432x288 with 1 Axes>"
            ],
            "image/png": "[encoded data removed]"
          },
          "metadata": {
            "needs_background": "light"
          }
        }
      ],
      "source": [
        "#Cloud Generator\n",
        "\n",
        "domain_X = [-.5, .5]\n",
        "domain_Y = [0, 1]\n",
        "\n",
        "rng = np.random.default_rng(123)\n",
        "\n",
        "def cloud(size=128):\n",
        "  \n",
        "  #interior\n",
        "  X = rng.uniform(domain_X[0], domain_X[1], size)\n",
        "  Y = rng.uniform(domain_Y[0], domain_Y[1], size)\n",
        "\n",
        "  return (X, Y)\n",
        "\n",
        "#Random Plotting in Domain\n",
        "x, y = cloud(128)\n",
        "plt.scatter(x, np.zeros_like(x), color='orange')\n",
        "plt.scatter(x, np.ones_like(x), color='red')\n",
        "plt.scatter(x, y)\n",
        "plt.show()"
      ]
    },
    {
      "cell_type": "code",
      "execution_count": 57,
      "metadata": {
        "id": "nQMnPX_3nY-c"
      },
      "outputs": [],
      "source": [
        "class NSFnet_VP(nn.Module):\n",
        "  def __init__(self):\n",
        "    super().__init__()\n",
        "\n",
        "    self.FC1 = nn.Linear(2, 64)\n",
        "    self.AC1 = nn.Tanh()\n",
        "\n",
        "    self.FC2 = nn.Linear(64, 128)\n",
        "    self.AC2 = nn.Tanh()\n",
        "\n",
        "    self.FC3 = nn.Linear(128, 2)\n",
        "\n",
        "  def forward(self, x):\n",
        "    out = self.AC1(self.FC1(x))\n",
        "    out = self.AC2(self.FC2(out))\n",
        "    out = self.FC3(out)\n",
        "    return out"
      ]
    },
    {
      "cell_type": "code",
      "execution_count": 136,
      "metadata": {
        "id": "CNiRg2M3oOyU"
      },
      "outputs": [],
      "source": [
        "model = NSFnet_VP()\n",
        "lr=0.003\n",
        "optimizer = torch.optim.Adam(model.parameters(), lr)\n",
        "epochs = 10000"
      ]
    },
    {
      "cell_type": "code",
      "execution_count": 137,
      "metadata": {
        "colab": {
          "base_uri": "https://localhost:8080/"
        },
        "id": "Pjk78gD9oaVi",
        "outputId": "95d63a66-2887-42f7-f69c-d0f2c5abc282"
      },
      "outputs": [
        {
          "output_type": "stream",
          "name": "stderr",
          "text": [
            "  0%|          | 9/10000 [00:00<02:01, 82.39it/s]"
          ]
        },
        {
          "output_type": "stream",
          "name": "stdout",
          "text": [
            "PDE Loss: 2.3060824871063232 , Boundary Loss: 82.49395751953125\n"
          ]
        },
        {
          "output_type": "stream",
          "name": "stderr",
          "text": [
            " 10%|█         | 1017/10000 [00:12<01:45, 85.25it/s]"
          ]
        },
        {
          "output_type": "stream",
          "name": "stdout",
          "text": [
            "PDE Loss: 0.0013301223516464233 , Boundary Loss: 30.29371452331543\n"
          ]
        },
        {
          "output_type": "stream",
          "name": "stderr",
          "text": [
            " 20%|██        | 2016/10000 [00:24<01:37, 81.95it/s]"
          ]
        },
        {
          "output_type": "stream",
          "name": "stdout",
          "text": [
            "PDE Loss: 0.00034690662869252264 , Boundary Loss: 8.527690887451172\n"
          ]
        },
        {
          "output_type": "stream",
          "name": "stderr",
          "text": [
            " 30%|███       | 3015/10000 [00:36<01:22, 84.48it/s]"
          ]
        },
        {
          "output_type": "stream",
          "name": "stdout",
          "text": [
            "PDE Loss: 0.0023993549402803183 , Boundary Loss: 3.1911392211914062\n"
          ]
        },
        {
          "output_type": "stream",
          "name": "stderr",
          "text": [
            " 40%|████      | 4014/10000 [00:48<01:11, 83.90it/s]"
          ]
        },
        {
          "output_type": "stream",
          "name": "stdout",
          "text": [
            "PDE Loss: 0.00023731222609058022 , Boundary Loss: 1.125364065170288\n"
          ]
        },
        {
          "output_type": "stream",
          "name": "stderr",
          "text": [
            " 50%|█████     | 5013/10000 [01:00<01:01, 81.45it/s]"
          ]
        },
        {
          "output_type": "stream",
          "name": "stdout",
          "text": [
            "PDE Loss: 0.003981321584433317 , Boundary Loss: 1.3586275577545166\n"
          ]
        },
        {
          "output_type": "stream",
          "name": "stderr",
          "text": [
            " 60%|██████    | 6009/10000 [01:12<00:47, 84.10it/s]"
          ]
        },
        {
          "output_type": "stream",
          "name": "stdout",
          "text": [
            "PDE Loss: 8.435369090875611e-05 , Boundary Loss: 1.9852948188781738\n"
          ]
        },
        {
          "output_type": "stream",
          "name": "stderr",
          "text": [
            " 70%|███████   | 7017/10000 [01:24<00:35, 83.97it/s]"
          ]
        },
        {
          "output_type": "stream",
          "name": "stdout",
          "text": [
            "PDE Loss: 3.061188544961624e-05 , Boundary Loss: 2.482577323913574\n"
          ]
        },
        {
          "output_type": "stream",
          "name": "stderr",
          "text": [
            " 80%|████████  | 8016/10000 [01:36<00:23, 84.35it/s]"
          ]
        },
        {
          "output_type": "stream",
          "name": "stdout",
          "text": [
            "PDE Loss: 5.8873942180071026e-05 , Boundary Loss: 1.1173269748687744\n"
          ]
        },
        {
          "output_type": "stream",
          "name": "stderr",
          "text": [
            " 90%|█████████ | 9015/10000 [01:48<00:11, 86.10it/s]"
          ]
        },
        {
          "output_type": "stream",
          "name": "stdout",
          "text": [
            "PDE Loss: 0.00029690947849303484 , Boundary Loss: 2.989156723022461\n"
          ]
        },
        {
          "output_type": "stream",
          "name": "stderr",
          "text": [
            "100%|██████████| 10000/10000 [01:59<00:00, 83.46it/s]\n"
          ]
        }
      ],
      "source": [
        "for epoch in tqdm(range(epochs)):\n",
        "\n",
        "  #Data\n",
        "  size = 128\n",
        "  x_sample, y_sample = cloud(size)\n",
        "  x_t = torch.tensor(x_sample, dtype=torch.float, requires_grad=True)\n",
        "  y_t = torch.tensor(y_sample, dtype=torch.float, requires_grad=True)\n",
        "  data = torch.stack([torch.cat([x_t, x_t, x_t], dim=0), torch.cat([y_t, torch.ones_like(y_t), torch.zeros_like(y_t)])], dim=1)\n",
        "\n",
        "  #PDE Predictions\n",
        "  preds = model(data)\n",
        "  u_preds = preds[:size, 0]#Velocity\n",
        "  p_preds = preds[:size, 1]#Pressure\n",
        "\n",
        "  # #Boundary Data\n",
        "  # boundary_data = torch.stack([torch.cat([x_t, x_t], dim=0), torch.cat([torch.ones_like(x_t), torch.zeros_like(x_t)], dim=0)], dim=1)\n",
        "\n",
        "  # #Boundary Predictions\n",
        "  # b_preds = model(boundary_data.view(-1, 2))\n",
        "\n",
        "  #Differentials\n",
        "  du_dx = torch.autograd.grad(u_preds, x_t, torch.ones_like(u_preds), create_graph=True, retain_graph=True)[0]\n",
        "  du_dy = torch.autograd.grad(u_preds, y_t, torch.ones_like(u_preds), create_graph=True, retain_graph=True)[0]\n",
        "  d2u_dy2 = torch.autograd.grad(du_dy, y_t, torch.ones_like(u_preds), create_graph=True, retain_graph=True)[0]\n",
        "\n",
        "  dp_dx = torch.autograd.grad(p_preds, x_t, torch.ones_like(p_preds), create_graph=True, retain_graph=True)[0]\n",
        "  dp_dy = torch.autograd.grad(p_preds, x_t, torch.ones_like(p_preds), create_graph=True, retain_graph=True)[0]\n",
        "\n",
        "  #Losses\n",
        "  mu = 1\n",
        "\n",
        "  #PDE_Loss\n",
        "  loss = torch.sum(du_dx**2)\n",
        "  loss = loss + torch.sum(dp_dy**2)\n",
        "  loss = loss + torch.sum((dp_dx-1/mu*(d2u_dy2))**2)\n",
        "  loss_p = loss\n",
        "\n",
        "  #Boundary Loss\n",
        "  v = 1\n",
        "  loss = torch.sum((preds[size:size*2,0]-v)**2)\n",
        "  loss = loss+torch.sum((preds[size*2:size*3,0])**2)\n",
        "  loss_b = loss\n",
        "\n",
        "  alpha_b = 0.0001\n",
        "\n",
        "  #Total loss\n",
        "  loss = loss_p + alpha_b*loss_b \n",
        "\n",
        "  if(epoch%1000==0 or epoch==9999):\n",
        "    print(\"PDE Loss:\", loss_p.item(), \", Boundary Loss:\", loss_b.item())\n",
        "\n",
        "  optimizer.zero_grad()\n",
        "  loss.backward()\n",
        "  optimizer.step()"
      ]
    },
    {
      "cell_type": "code",
      "execution_count": 140,
      "metadata": {
        "colab": {
          "base_uri": "https://localhost:8080/",
          "height": 541
        },
        "id": "DpRLGwbjqF1Y",
        "outputId": "c3a3e3b0-b886-43d7-fa95-8f08381069eb"
      },
      "outputs": [
        {
          "output_type": "display_data",
          "data": {
            "text/plain": [
              "<Figure size 432x288 with 1 Axes>"
            ],
            "image/png": "[encoded data removed]"
          },
          "metadata": {
            "needs_background": "light"
          }
        },
        {
          "output_type": "display_data",
          "data": {
            "text/plain": [
              "<Figure size 432x288 with 1 Axes>"
            ],
            "image/png": "[encoded data removed]"
          },
          "metadata": {
            "needs_background": "light"
          }
        }
      ],
      "source": [
        "#Plotting Results\n",
        "\n",
        "y = np.linspace(domain_Y[0], domain_Y[1], 100)\n",
        "x = np.zeros_like(y)\n",
        "\n",
        "x_t = torch.tensor(x, dtype=torch.float)\n",
        "y_t = torch.tensor(y, dtype=torch.float)\n",
        "\n",
        "with torch.no_grad():\n",
        "  preds = model(torch.stack([x_t, y_t], dim=1))\n",
        "\n",
        "u_preds = preds[:, 0].numpy()\n",
        "p_preds = preds[:, 1].numpy()\n",
        "\n",
        "plt.plot(y, u_preds,)\n",
        "plt.xlabel('Y')\n",
        "plt.ylabel('Velocity')\n",
        "plt.show()\n",
        "\n",
        "plt.plot(y, p_preds)\n",
        "plt.xlabel('Y')\n",
        "plt.ylabel('Pressure')\n",
        "plt.show()"
      ]
    },
    {
      "cell_type": "code",
      "execution_count": null,
      "metadata": {
        "id": "zzOBJwzSyCLz"
      },
      "outputs": [],
      "source": []
    }
  ],
  "metadata": {
    "colab": {
      "collapsed_sections": [],
      "provenance": [],
      "authorship_tag": "ABX9TyMOoqTVykcsheyfH1Z7QgpP",
      "include_colab_link": true
    },
    "kernelspec": {
      "display_name": "Python 3",
      "name": "python3"
    },
    "language_info": {
      "name": "python"
    }
  },
  "nbformat": 4,
  "nbformat_minor": 0
}