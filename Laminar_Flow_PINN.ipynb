{
  "nbformat": 4,
  "nbformat_minor": 0,
  "metadata": {
    "colab": {
      "provenance": [],
      "authorship_tag": "ABX9TyOYYqxuvkbMD8cWQCTLf99e",
      "include_colab_link": true
    },
    "kernelspec": {
      "name": "python3",
      "display_name": "Python 3"
    },
    "language_info": {
      "name": "python"
    }
  },
  "cells": [
    {
      "cell_type": "markdown",
      "metadata": {
        "id": "view-in-github",
        "colab_type": "text"
      },
      "source": [
        "<a href=\"https://colab.research.google.com/github/S1R3S1D/PINNxMICROFLUIDICS/blob/main/Laminar_Flow_PINN.ipynb\" target=\"_parent\"><img src=\"https://colab.research.google.com/assets/colab-badge.svg\" alt=\"Open In Colab\"/></a>"
      ]
    },
    {
      "cell_type": "code",
      "execution_count": 20,
      "metadata": {
        "id": "ZcqLTBPINd2C"
      },
      "outputs": [],
      "source": [
        "import torch\n",
        "import matplotlib.pyplot as plt\n",
        "from torch import nn\n",
        "from tqdm import tqdm\n",
        "import numpy as np"
      ]
    },
    {
      "cell_type": "code",
      "source": [
        "#Cloud Generator\n",
        "\n",
        "domain_X = [-1, 1]\n",
        "domain_Y = [-1, 1]\n",
        "\n",
        "rng = np.random.default_rng(123)\n",
        "\n",
        "def cloud(size=128):\n",
        "  \n",
        "  #interior\n",
        "  X = rng.uniform(domain_X[0], domain_X[1], size)\n",
        "  Y = rng.uniform(domain_Y[0], domain_Y[1], size)\n",
        "\n",
        "  return (X, Y)\n",
        "\n",
        "#Random Plotting in Domain\n",
        "x, y = cloud(128)\n",
        "plt.scatter(x, domain_Y[0]*np.ones_like(x), color='orange')\n",
        "plt.scatter(x, domain_Y[1]*np.ones_like(x), color='red')\n",
        "plt.scatter(x, y)\n",
        "plt.show()"
      ],
      "metadata": {
        "colab": {
          "base_uri": "https://localhost:8080/",
          "height": 265
        },
        "id": "LOnx6bp9N2lM",
        "outputId": "1d00cedd-ba53-4eea-da5d-ea49d7a89770"
      },
      "execution_count": 22,
      "outputs": [
        {
          "output_type": "display_data",
          "data": {
            "text/plain": [
              "<Figure size 432x288 with 1 Axes>"
            ],
            "image/png": "[encoded data removed]"
          },
          "metadata": {
            "needs_background": "light"
          }
        }
      ]
    },
    {
      "cell_type": "code",
      "source": [
        "class NSFnet_VP(nn.Module):\n",
        "  def __init__(self):\n",
        "    super().__init__()\n",
        "\n",
        "    self.FC1 = nn.Linear(2, 64)\n",
        "    self.AC1 = nn.Tanh()\n",
        "\n",
        "    self.FC2 = nn.Linear(64, 128)\n",
        "    self.AC2 = nn.Tanh()\n",
        "\n",
        "    self.FC3 = nn.Linear(128, 2)\n",
        "\n",
        "  def forward(self, x):\n",
        "    out = self.AC1(self.FC1(x))\n",
        "    out = self.AC2(self.FC2(out))\n",
        "    out = self.FC3(out)\n",
        "    return out"
      ],
      "metadata": {
        "id": "YMY2hfOrOhnZ"
      },
      "execution_count": 27,
      "outputs": []
    },
    {
      "cell_type": "code",
      "source": [
        "model = NSFnet_VP()\n",
        "lr=0.01\n",
        "optimizer = torch.optim.Adam(model.parameters(), lr)\n",
        "epochs = 20000"
      ],
      "metadata": {
        "id": "VXDtnUKoPKzo"
      },
      "execution_count": 28,
      "outputs": []
    },
    {
      "cell_type": "code",
      "source": [
        "for epoch in tqdm(range(epochs)):\n",
        "\n",
        "  #Data\n",
        "  size = 128\n",
        "  x_sample, y_sample = cloud(size)\n",
        "  x_t = torch.tensor(x_sample, dtype=torch.float, requires_grad=True)\n",
        "  y_t = torch.tensor(y_sample, dtype=torch.float, requires_grad=True)\n",
        "  data = torch.stack([torch.cat([x_t, x_t, x_t], dim=0), torch.cat([y_t, domain_Y[0]*torch.ones_like(y_t), domain_Y[1]*torch.ones_like(y_t)])], dim=1)\n",
        "\n",
        "  #PDE Predictions\n",
        "  preds = model(data)\n",
        "  u_preds = preds[:size, 0]#Velocity\n",
        "  p_preds = preds[:size, 1]#Pressure\n",
        "\n",
        "  #Differentials\n",
        "  du_dx = torch.autograd.grad(u_preds, x_t, torch.ones_like(u_preds), create_graph=True, retain_graph=True)[0]\n",
        "  du_dy = torch.autograd.grad(u_preds, y_t, torch.ones_like(u_preds), create_graph=True, retain_graph=True)[0]\n",
        "  d2u_dy2 = torch.autograd.grad(du_dy, y_t, torch.ones_like(u_preds), create_graph=True, retain_graph=True)[0]\n",
        "\n",
        "  dp_dx = torch.autograd.grad(p_preds, x_t, torch.ones_like(p_preds), create_graph=True, retain_graph=True)[0]\n",
        "  dp_dy = torch.autograd.grad(p_preds, y_t, torch.ones_like(p_preds), create_graph=True, retain_graph=True)[0]\n",
        "\n",
        "  #Losses\n",
        "  mu = 1\n",
        "\n",
        "  #PDE_Loss\n",
        "  loss = torch.sum(du_dx**2)\n",
        "  loss = loss + torch.sum(dp_dy**2)\n",
        "  loss = loss + torch.sum((dp_dx-100)**2)\n",
        "  loss = loss + torch.sum((dp_dx-mu*(d2u_dy2))**2)\n",
        "  loss_p = loss\n",
        "\n",
        "  #Boundary Loss\n",
        "  v = 1\n",
        "  loss = torch.sum((preds[size:size*2,0])**2)\n",
        "  loss = loss+torch.sum((preds[size*2:size*3,0])**2)\n",
        "  loss_b = loss\n",
        "\n",
        "  alpha_b = 0.0001\n",
        "\n",
        "  #Total loss\n",
        "  loss = loss_p + alpha_b*loss_b \n",
        "\n",
        "  if(epoch%1000==0 or epoch==9999):\n",
        "    print(\"PDE Loss:\", loss_p.item(), \", Boundary Loss:\", loss_b.item())\n",
        "\n",
        "  optimizer.zero_grad()\n",
        "  loss.backward()\n",
        "  optimizer.step()"
      ],
      "metadata": {
        "colab": {
          "base_uri": "https://localhost:8080/"
        },
        "id": "hZjRff4DPNFQ",
        "outputId": "7fbd149b-5847-4aa0-b221-739e580703af"
      },
      "execution_count": 29,
      "outputs": [
        {
          "output_type": "stream",
          "name": "stderr",
          "text": [
            "  0%|          | 10/20000 [00:00<03:25, 97.51it/s]"
          ]
        },
        {
          "output_type": "stream",
          "name": "stdout",
          "text": [
            "PDE Loss: 1276964.875 , Boundary Loss: 5.184422016143799\n"
          ]
        },
        {
          "output_type": "stream",
          "name": "stderr",
          "text": [
            "  5%|▌         | 1010/20000 [00:10<03:29, 90.69it/s]"
          ]
        },
        {
          "output_type": "stream",
          "name": "stdout",
          "text": [
            "PDE Loss: 883.324462890625 , Boundary Loss: 2482.367919921875\n"
          ]
        },
        {
          "output_type": "stream",
          "name": "stderr",
          "text": [
            " 10%|█         | 2018/20000 [00:21<03:14, 92.68it/s]"
          ]
        },
        {
          "output_type": "stream",
          "name": "stdout",
          "text": [
            "PDE Loss: 238.44053649902344 , Boundary Loss: 2139.928466796875\n"
          ]
        },
        {
          "output_type": "stream",
          "name": "stderr",
          "text": [
            " 15%|█▌        | 3010/20000 [00:33<03:02, 92.87it/s]"
          ]
        },
        {
          "output_type": "stream",
          "name": "stdout",
          "text": [
            "PDE Loss: 94.21733093261719 , Boundary Loss: 3081.04638671875\n"
          ]
        },
        {
          "output_type": "stream",
          "name": "stderr",
          "text": [
            " 20%|██        | 4020/20000 [00:44<02:50, 93.58it/s]"
          ]
        },
        {
          "output_type": "stream",
          "name": "stdout",
          "text": [
            "PDE Loss: 14.503013610839844 , Boundary Loss: 1186.2384033203125\n"
          ]
        },
        {
          "output_type": "stream",
          "name": "stderr",
          "text": [
            " 25%|██▌       | 5010/20000 [00:54<02:40, 93.12it/s]"
          ]
        },
        {
          "output_type": "stream",
          "name": "stdout",
          "text": [
            "PDE Loss: 104.69221496582031 , Boundary Loss: 2761.87255859375\n"
          ]
        },
        {
          "output_type": "stream",
          "name": "stderr",
          "text": [
            " 30%|███       | 6010/20000 [01:05<02:39, 87.45it/s]"
          ]
        },
        {
          "output_type": "stream",
          "name": "stdout",
          "text": [
            "PDE Loss: 350.2782287597656 , Boundary Loss: 1673.683837890625\n"
          ]
        },
        {
          "output_type": "stream",
          "name": "stderr",
          "text": [
            " 35%|███▌      | 7018/20000 [01:16<02:17, 94.10it/s]"
          ]
        },
        {
          "output_type": "stream",
          "name": "stdout",
          "text": [
            "PDE Loss: 289.98687744140625 , Boundary Loss: 1031.0283203125\n"
          ]
        },
        {
          "output_type": "stream",
          "name": "stderr",
          "text": [
            " 40%|████      | 8020/20000 [01:28<02:08, 92.97it/s]"
          ]
        },
        {
          "output_type": "stream",
          "name": "stdout",
          "text": [
            "PDE Loss: 164.661376953125 , Boundary Loss: 584.6210327148438\n"
          ]
        },
        {
          "output_type": "stream",
          "name": "stderr",
          "text": [
            " 45%|████▌     | 9010/20000 [01:38<02:01, 90.25it/s]"
          ]
        },
        {
          "output_type": "stream",
          "name": "stdout",
          "text": [
            "PDE Loss: 40.05944061279297 , Boundary Loss: 23.561840057373047\n"
          ]
        },
        {
          "output_type": "stream",
          "name": "stderr",
          "text": [
            " 50%|█████     | 10008/20000 [01:49<01:54, 86.96it/s]"
          ]
        },
        {
          "output_type": "stream",
          "name": "stdout",
          "text": [
            "PDE Loss: 42.68830871582031 , Boundary Loss: 46.772247314453125\n",
            "PDE Loss: 27.256181716918945 , Boundary Loss: 63.692291259765625\n"
          ]
        },
        {
          "output_type": "stream",
          "name": "stderr",
          "text": [
            " 55%|█████▌    | 11017/20000 [02:00<01:34, 94.60it/s]"
          ]
        },
        {
          "output_type": "stream",
          "name": "stdout",
          "text": [
            "PDE Loss: 18.228546142578125 , Boundary Loss: 240.4926300048828\n"
          ]
        },
        {
          "output_type": "stream",
          "name": "stderr",
          "text": [
            " 60%|██████    | 12017/20000 [02:10<01:25, 93.52it/s]"
          ]
        },
        {
          "output_type": "stream",
          "name": "stdout",
          "text": [
            "PDE Loss: 2.4475088119506836 , Boundary Loss: 90.7630844116211\n"
          ]
        },
        {
          "output_type": "stream",
          "name": "stderr",
          "text": [
            " 65%|██████▌   | 13013/20000 [02:22<01:50, 63.00it/s]"
          ]
        },
        {
          "output_type": "stream",
          "name": "stdout",
          "text": [
            "PDE Loss: 4.015842437744141 , Boundary Loss: 27.204309463500977\n"
          ]
        },
        {
          "output_type": "stream",
          "name": "stderr",
          "text": [
            " 70%|███████   | 14012/20000 [02:33<01:03, 94.59it/s]"
          ]
        },
        {
          "output_type": "stream",
          "name": "stdout",
          "text": [
            "PDE Loss: 207.45278930664062 , Boundary Loss: 874.7371826171875\n"
          ]
        },
        {
          "output_type": "stream",
          "name": "stderr",
          "text": [
            " 75%|███████▌  | 15019/20000 [02:44<00:54, 90.85it/s]"
          ]
        },
        {
          "output_type": "stream",
          "name": "stdout",
          "text": [
            "PDE Loss: 91.04955291748047 , Boundary Loss: 42.82100296020508\n"
          ]
        },
        {
          "output_type": "stream",
          "name": "stderr",
          "text": [
            " 80%|████████  | 16015/20000 [02:54<00:43, 91.67it/s]"
          ]
        },
        {
          "output_type": "stream",
          "name": "stdout",
          "text": [
            "PDE Loss: 81.64012145996094 , Boundary Loss: 488.9143981933594\n"
          ]
        },
        {
          "output_type": "stream",
          "name": "stderr",
          "text": [
            " 85%|████████▌ | 17020/20000 [03:05<00:31, 93.99it/s]"
          ]
        },
        {
          "output_type": "stream",
          "name": "stdout",
          "text": [
            "PDE Loss: 13.281655311584473 , Boundary Loss: 308.0837707519531\n"
          ]
        },
        {
          "output_type": "stream",
          "name": "stderr",
          "text": [
            " 90%|█████████ | 18010/20000 [03:16<00:21, 93.45it/s]"
          ]
        },
        {
          "output_type": "stream",
          "name": "stdout",
          "text": [
            "PDE Loss: 359.5768737792969 , Boundary Loss: 1457.441650390625\n"
          ]
        },
        {
          "output_type": "stream",
          "name": "stderr",
          "text": [
            " 95%|█████████▌| 19013/20000 [03:28<00:10, 90.17it/s]"
          ]
        },
        {
          "output_type": "stream",
          "name": "stdout",
          "text": [
            "PDE Loss: 1.2914586067199707 , Boundary Loss: 32.02236557006836\n"
          ]
        },
        {
          "output_type": "stream",
          "name": "stderr",
          "text": [
            "100%|██████████| 20000/20000 [03:38<00:00, 91.47it/s]\n"
          ]
        }
      ]
    },
    {
      "cell_type": "code",
      "source": [
        "y = np.linspace(domain_Y[0], domain_Y[1], 100)\n",
        "x = np.zeros_like(y)\n",
        "\n",
        "x_t = torch.tensor(x, dtype=torch.float)\n",
        "y_t = torch.tensor(y, dtype=torch.float)\n",
        "\n",
        "with torch.no_grad():\n",
        "  preds = model(torch.stack([x_t, y_t], dim=1))\n",
        "\n",
        "u_preds = preds[:, 0].numpy()\n",
        "p_preds = preds[:, 1].numpy()\n",
        "\n",
        "plt.plot(y, u_preds,)\n",
        "plt.xlabel('Y')\n",
        "plt.ylabel('Velocity')\n",
        "plt.show()\n",
        "\n",
        "plt.plot(y, p_preds)\n",
        "plt.xlabel('Y')\n",
        "plt.ylabel('Pressure')\n",
        "plt.show()"
      ],
      "metadata": {
        "colab": {
          "base_uri": "https://localhost:8080/",
          "height": 541
        },
        "id": "KOQO6QxYP_X2",
        "outputId": "5ebe2993-5b13-445c-be44-64a9c2e7a3af"
      },
      "execution_count": 30,
      "outputs": [
        {
          "output_type": "display_data",
          "data": {
            "text/plain": [
              "<Figure size 432x288 with 1 Axes>"
            ],
            "image/png": "[encoded data removed]"
          },
          "metadata": {
            "needs_background": "light"
          }
        },
        {
          "output_type": "display_data",
          "data": {
            "text/plain": [
              "<Figure size 432x288 with 1 Axes>"
            ],
            "image/png": "[encoded data removed]"
          },
          "metadata": {
            "needs_background": "light"
          }
        }
      ]
    },
    {
      "cell_type": "code",
      "source": [],
      "metadata": {
        "id": "-3KzWCXLQ2PS"
      },
      "execution_count": null,
      "outputs": []
    }
  ]
}