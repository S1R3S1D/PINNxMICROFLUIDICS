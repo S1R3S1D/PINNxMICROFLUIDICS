{
  "cells": [
    {
      "attachments": {},
      "cell_type": "markdown",
      "metadata": {},
      "source": [
        "# Imports"
      ]
    },
    {
      "cell_type": "code",
      "execution_count": null,
      "metadata": {
        "id": "VA4eAD-NKelz"
      },
      "outputs": [],
      "source": [
        "import numpy as np\n",
        "import tensorflow as tf\n",
        "import matplotlib.pyplot as plt\n",
        "from tensorflow.keras import Model, layers\n",
        "from tensorflow import keras"
      ]
    },
    {
      "cell_type": "code",
      "execution_count": null,
      "metadata": {
        "id": "2aWYQ243Ky6Y"
      },
      "outputs": [],
      "source": [
        "from random_point_generator import random_point_cloud\n",
        "from keras.layers import Lambda, merge"
      ]
    },
    {
      "attachments": {},
      "cell_type": "markdown",
      "metadata": {},
      "source": [
        "# Constants"
      ]
    },
    {
      "cell_type": "code",
      "execution_count": null,
      "metadata": {
        "id": "BPIuXo1rK4g0"
      },
      "outputs": [],
      "source": [
        "DENSITY_1 = 1000\n",
        "DENSITY_2 = 1000\n",
        "MU_1 = 2.71e-3\n",
        "MU_2 = 1.355e-3\n",
        "SIGMA = 5.42e-2\n",
        "T_SIM = 0\n",
        "T_STEP = 1e-4\n",
        "DIV_N_WALLS = 2\n",
        "SCALING = 5e-7\n",
        "LAYER_THICKNESS = 3\n",
        "N_STEPS = int(T_SIM/T_STEP) + 1\n",
        "POINTS_INT = 1 #1000\n",
        "POINTS_INL = 50\n",
        "POINTS_WALLS = 250\n",
        "VEL_1D = -0.1875\n",
        "VEL_2D = 0.1875\n",
        "VEL_C = 1.5\n",
        "LEN = 1e-5\n",
        "EPS = 1e-6"
      ]
    },
    {
      "attachments": {},
      "cell_type": "markdown",
      "metadata": {},
      "source": [
        "# Input preprocessing"
      ]
    },
    {
      "cell_type": "code",
      "execution_count": null,
      "metadata": {},
      "outputs": [],
      "source": [
        "path = \"path/to/your/folder\""
      ]
    },
    {
      "cell_type": "code",
      "execution_count": null,
      "metadata": {
        "collapsed": true,
        "id": "7d5CwRPfK5Al"
      },
      "outputs": [],
      "source": [
        "inlet_1d = (np.loadtxt(path + \"pinn-inlet-1d.asc\", skiprows=0).astype(np.float32))*SCALING\n",
        "inlet_2d = (np.loadtxt(path + \"pinn-inlet-2d.asc\", skiprows=0).astype(np.float32))*SCALING\n",
        "inlet_c = (np.loadtxt(path + \"pinn-inlet-c.asc\", skiprows=0).astype(np.float32))*SCALING\n",
        "interior = (np.loadtxt(path + \"pinn-interior.asc\", skiprows=0).astype(np.float32))*SCALING\n",
        "outlet = (np.loadtxt(path + \"pinn-outlet.asc\", skiprows=0).astype(np.float32))*SCALING\n",
        "walls  = (np.loadtxt(path + \"pinn-walls.asc\", skiprows=0).astype(np.float32))*SCALING"
      ]
    },
    {
      "cell_type": "code",
      "execution_count": null,
      "metadata": {
        "id": "aC5r7fCeLNbB"
      },
      "outputs": [],
      "source": [
        "inlet_1d = np.delete(inlet_1d,2,1)\n",
        "inlet_2d = np.delete(inlet_2d,2,1)\n",
        "inlet_c = np.delete(inlet_c,2,1)\n",
        "interior = np.delete(interior,2,1)\n",
        "outlet = np.delete(outlet,2,1)\n",
        "walls = np.delete(walls,2,1)"
      ]
    },
    {
      "cell_type": "code",
      "execution_count": null,
      "metadata": {
        "colab": {
          "base_uri": "https://localhost:8080/",
          "height": 385
        },
        "id": "_20c4AMSLO_v",
        "outputId": "f9b426d7-1e13-4f71-d043-1a3b2417fcce"
      },
      "outputs": [],
      "source": [
        "plt.figure(figsize=(10,6))\n",
        "plt.scatter(inlet_1d[:,0], inlet_1d[:,1],c='red')\n",
        "plt.scatter(inlet_2d[:,0], inlet_2d[:,1],c='red')\n",
        "plt.scatter(inlet_c[:,0], inlet_c[:,1],c='blue')\n",
        "plt.scatter(interior[::1000,0], interior[::1000,1],c='green')\n",
        "plt.scatter(outlet[:,0], outlet[:,1],c='yellow')\n",
        "plt.scatter(walls[:,0], walls[:,1],c='brown')\n",
        "plt.ylim([-5e-5,5e-5])\n",
        "plt.xlim([0,2e-4])\n",
        "plt.yticks(-5e-6*np.arange(-10,11,1))\n",
        "plt.show()"
      ]
    },
    {
      "cell_type": "code",
      "execution_count": null,
      "metadata": {
        "id": "7QxKBtBpLQlQ"
      },
      "outputs": [],
      "source": [
        "#u_inlet_d1 = np.zeros(inlet_1d[:,0].shape)\n",
        "v_inlet_d1 = (VEL_1D*(1 - ((inlet_1d[:,0] - np.average(inlet_1d[:,0]))/(LEN/2))**2)).astype(np.float32)\n",
        "#a_inlet_d1 = np.zeros(inlet_1d[:,0].shape)\n",
        "\n",
        "#u_inlet_d2 = np.zeros(inlet_2d[:,0].shape)\n",
        "v_inlet_d2 = (VEL_2D*(1 - ((inlet_2d[:,0] - np.average(inlet_2d[:,0]))/(LEN/2))**2)).astype(np.float32)\n",
        "#a_inlet_d2 = np.zeros(inlet_2d[:,0].shape)\n",
        "\n",
        "\n",
        "u_inlet_c = VEL_C*(1 - ((inlet_c[:,1])/(LEN/2))**2).astype(np.float32)\n",
        "#v_inlet_c = np.zeros(inlet_c[:,1].shape)\n",
        "a_inlet_c = np.ones(inlet_c[:,1].shape).astype(np.float32)\n",
        "\n",
        "#p_outlet = np.zeros(outlet[:,0].shape)\n",
        "\n",
        "#u_walls = np.zeros(walls[:,0].shape)\n",
        "#v_walls = np.zeros(walls[:,1].shape)"
      ]
    },
    {
      "attachments": {},
      "cell_type": "markdown",
      "metadata": {},
      "source": [
        "# Normalizing the domain\n",
        "#### length of diagonal=sqrt((maxX-minX)*(maxX-minX) + (maxY-minY)*(maxY-minY))   "
      ]
    },
    {
      "cell_type": "code",
      "execution_count": null,
      "metadata": {
        "id": "x_W3VJxVT5Ag"
      },
      "outputs": [],
      "source": [
        "def mag(location: np.ndarray) -> np.float32:\n",
        "    return np.linalg.norm(location.max(axis=0) - location.min(axis=0))"
      ]
    },
    {
      "cell_type": "code",
      "execution_count": null,
      "metadata": {
        "id": "m22mziLPT5gt"
      },
      "outputs": [],
      "source": [
        "norm_inlet_1d = mag(inlet_1d)\n",
        "norm_inlet_2d = mag(inlet_2d)\n",
        "norm_inlet_c = mag(inlet_c)"
      ]
    },
    {
      "attachments": {},
      "cell_type": "markdown",
      "metadata": {},
      "source": [
        "### NN Model"
      ]
    },
    {
      "attachments": {},
      "cell_type": "markdown",
      "metadata": {},
      "source": [
        "#### 1. Create three parallel short NNs.\n",
        "\n",
        "#### 2. Each layer begins with a Lambda layer, which is essentially a fixed layer with no trainable parameters. These lambda layers will remap the co-ordinates from the original space to (0,1) and send it to the NN. \n",
        "\n",
        "#### 3. Concate the Layers and then add few layers for allow it to learn to use specific NN architecture before the concate "
      ]
    },
    {
      "cell_type": "code",
      "execution_count": null,
      "metadata": {
        "colab": {
          "base_uri": "https://localhost:8080/",
          "height": 397
        },
        "id": "8VteMC1CLVRJ",
        "outputId": "c36a63a2-515b-4e68-810d-b167a61173e3"
      },
      "outputs": [],
      "source": [
        "inputs = layers.Input(2)\n",
        "\n",
        "d1 = Lambda(lambda x:(x - tf.convert_to_tensor(inlet_1d.min(axis=0)))/tf.convert_to_tensor(norm_inlet_1d))(inputs)\n",
        "d1 = layers.Dense(LAYER_THICKNESS,name=\"d1_dense_1\")(d1)\n",
        "d1 = tf.nn.swish(d1)\n",
        "d1 = layers.Dense(LAYER_THICKNESS,name=\"d1_dense_2\")(d1)\n",
        "d1 = tf.nn.swish(d1)\n",
        "\n",
        "d2 = Lambda(lambda x:(x - tf.convert_to_tensor(inlet_2d.min(axis=0)))/tf.convert_to_tensor(norm_inlet_2d))(inputs)\n",
        "d2 = layers.Dense(LAYER_THICKNESS,name=\"d2_dense_1\")(d2)\n",
        "d2 = tf.nn.swish(d2)\n",
        "d2 = layers.Dense(LAYER_THICKNESS,name=\"d2_dense_2\")(d2)\n",
        "d2 = tf.nn.swish(d2)\n",
        "\n",
        "c = Lambda(lambda x:(x - tf.convert_to_tensor(inlet_c.min(axis=0)))/tf.convert_to_tensor(norm_inlet_c))(inputs)\n",
        "c = layers.Dense(LAYER_THICKNESS,name=\"c_dense_1\")(c)\n",
        "c = tf.nn.swish(c)\n",
        "c = layers.Dense(LAYER_THICKNESS,name=\"c_dense_2\")(c)\n",
        "c = tf.nn.swish(c)\n",
        "\n",
        "model_concate = layers.Concatenate()((d1,d2,c))\n",
        "x = tf.nn.swish(model_concate)\n",
        "x = layers.Dense(LAYER_THICKNESS)(x)\n",
        "x = tf.nn.swish(x)\n",
        "outputs = layers.Dense(2)(x)"
      ]
    },
    {
      "cell_type": "code",
      "execution_count": null,
      "metadata": {
        "id": "r7gRixbuLaag"
      },
      "outputs": [],
      "source": [
        "model = Model(inputs=inputs,outputs=outputs)\n",
        "model.compile(loss= \"mse\", optimizer = keras.optimizers.Adam(learning_rate=1e-3))"
      ]
    },
    {
      "cell_type": "code",
      "execution_count": null,
      "metadata": {
        "colab": {
          "base_uri": "https://localhost:8080/"
        },
        "id": "dcVQi-0Ge9jN",
        "outputId": "d9c7bcb1-c550-41c9-9ecf-90408c3b0fb1"
      },
      "outputs": [],
      "source": [
        "model.summary()"
      ]
    },
    {
      "cell_type": "code",
      "execution_count": null,
      "metadata": {},
      "outputs": [],
      "source": [
        "X = np.vstack((inlet_1d,inlet_2d,inlet_c))\n",
        "v = np.hstack((v_inlet_d1,v_inlet_d2,np.zeros(u_inlet_c.size)))\n",
        "u = np.hstack((np.zeros(v_inlet_d1.size),np.zeros(v_inlet_d2.size),u_inlet_c))\n",
        "y = np.vstack((u,v)).T"
      ]
    },
    {
      "cell_type": "code",
      "execution_count": null,
      "metadata": {
        "colab": {
          "base_uri": "https://localhost:8080/"
        },
        "id": "uhHPZICFMR5S",
        "outputId": "f1808aa6-01f1-4e2d-e847-12f831f01361"
      },
      "outputs": [],
      "source": [
        "his = model.fit(X,y,verbose=0,epochs=2000)"
      ]
    },
    {
      "cell_type": "code",
      "execution_count": null,
      "metadata": {},
      "outputs": [],
      "source": [
        "plt.figure(figsize=(10,6))\n",
        "plt.plot(his.history['loss'])\n",
        "plt.title('model loss')\n",
        "plt.ylabel('loss')\n",
        "plt.xlabel('epoch')\n",
        "plt.yscale('log')\n",
        "plt.legend(['loss'], loc='upper left')\n",
        "plt.show()"
      ]
    },
    {
      "attachments": {},
      "cell_type": "markdown",
      "metadata": {},
      "source": [
        "# Comparing the predictions to the response"
      ]
    },
    {
      "cell_type": "code",
      "execution_count": null,
      "metadata": {
        "colab": {
          "base_uri": "https://localhost:8080/"
        },
        "id": "VLkFTbc4Zxfl",
        "outputId": "3d3e0875-02e6-4fff-9cb7-f641578b51d0"
      },
      "outputs": [],
      "source": [
        "X_inlet_d1 = random_point_cloud(inlet_1d,0,POINTS_INL)\n",
        "\n",
        "true_v_inlet_d1 = random_point_cloud(v_inlet_d1,0,POINTS_INL)\n",
        "\n",
        "pred = model.predict(X_inlet_d1)"
      ]
    },
    {
      "cell_type": "code",
      "execution_count": null,
      "metadata": {
        "colab": {
          "base_uri": "https://localhost:8080/",
          "height": 278
        },
        "id": "oHeR71x2SvPW",
        "outputId": "48872fb6-00fc-4dec-f4a6-1fe33a2406ad"
      },
      "outputs": [],
      "source": [
        "plt.scatter(X_inlet_d1[:,0],pred[:,1])\n",
        "plt.scatter(random_point_cloud(inlet_1d,0,POINTS_INL)[:,0],true_v_inlet_d1);"
      ]
    },
    {
      "cell_type": "code",
      "execution_count": null,
      "metadata": {
        "colab": {
          "base_uri": "https://localhost:8080/"
        },
        "id": "Rl-s-w-6Z18V",
        "outputId": "2d4aa553-7574-45c7-fcf7-ef11ef6af60e"
      },
      "outputs": [],
      "source": [
        "X_inlet_d2 = random_point_cloud(inlet_2d,0,POINTS_INL)\n",
        "\n",
        "true_v_inlet_d2 = random_point_cloud(v_inlet_d2,0,POINTS_INL)\n",
        "\n",
        "pred = model.predict(X_inlet_d2)"
      ]
    },
    {
      "cell_type": "code",
      "execution_count": null,
      "metadata": {
        "colab": {
          "base_uri": "https://localhost:8080/",
          "height": 278
        },
        "id": "D8JoKoamaAwR",
        "outputId": "334e7190-e4cd-4418-b862-b18b9b623697"
      },
      "outputs": [],
      "source": [
        "plt.scatter(X_inlet_d2[:,0],pred[:,1])\n",
        "plt.scatter(random_point_cloud(inlet_2d,0,POINTS_INL)[:,0],true_v_inlet_d2);"
      ]
    },
    {
      "cell_type": "code",
      "execution_count": null,
      "metadata": {},
      "outputs": [],
      "source": [
        "X_inlet_c = random_point_cloud(inlet_c,0,POINTS_INL)\n",
        "\n",
        "true_u_inlet_c = random_point_cloud(u_inlet_c,0,POINTS_INL)\n",
        "\n",
        "pred = model.predict(X_inlet_c)"
      ]
    },
    {
      "cell_type": "code",
      "execution_count": null,
      "metadata": {},
      "outputs": [],
      "source": [
        "plt.scatter(X_inlet_c[:,1],pred[:,0])\n",
        "plt.scatter(random_point_cloud(inlet_c,0,POINTS_INL)[:,1],true_u_inlet_c);"
      ]
    }
  ],
  "metadata": {
    "accelerator": "GPU",
    "colab": {
      "provenance": []
    },
    "gpuClass": "standard",
    "kernelspec": {
      "display_name": "deep",
      "language": "python",
      "name": "python3"
    },
    "language_info": {
      "codemirror_mode": {
        "name": "ipython",
        "version": 3
      },
      "file_extension": ".py",
      "mimetype": "text/x-python",
      "name": "python",
      "nbconvert_exporter": "python",
      "pygments_lexer": "ipython3",
      "version": "3.9.13"
    },
    "vscode": {
      "interpreter": {
        "hash": "557c8e246290dee81b5d857d2dd5e09755044b5700f2b36d1fdca0c3ab48fdda"
      }
    }
  },
  "nbformat": 4,
  "nbformat_minor": 0
}
