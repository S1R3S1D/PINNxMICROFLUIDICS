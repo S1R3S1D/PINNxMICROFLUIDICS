{
  "nbformat": 4,
  "nbformat_minor": 0,
  "metadata": {
    "colab": {
      "provenance": [],
      "collapsed_sections": [],
      "authorship_tag": "ABX9TyOwquoDEKSwhE/orXsVATQq",
      "include_colab_link": true
    },
    "kernelspec": {
      "name": "python3",
      "display_name": "Python 3"
    },
    "language_info": {
      "name": "python"
    }
  },
  "cells": [
    {
      "cell_type": "markdown",
      "metadata": {
        "id": "view-in-github",
        "colab_type": "text"
      },
      "source": [
        "<a href=\"https://colab.research.google.com/github/S1R3S1D/PINNs/blob/main/PINN_Intro.ipynb\" target=\"_parent\"><img src=\"https://colab.research.google.com/assets/colab-badge.svg\" alt=\"Open In Colab\"/></a>"
      ]
    },
    {
      "cell_type": "code",
      "source": [
        "import torch\n",
        "import matplotlib.pyplot as plt\n",
        "import numpy as np\n",
        "from torch import nn\n",
        "from tqdm import tqdm"
      ],
      "metadata": {
        "id": "Ij6Tc7rH1eBy"
      },
      "execution_count": null,
      "outputs": []
    },
    {
      "cell_type": "code",
      "source": [
        "def pop_growth(r:float, t):\n",
        "  return r*(t**3/3-t**2/2)\n",
        "\n",
        "def oscillator(d, w0, x):\n",
        "    assert d < w0\n",
        "    w = np.sqrt(w0**2-d**2)\n",
        "    phi = np.arctan(-d/w)\n",
        "    A = 1/(2*np.cos(phi))\n",
        "    cos = torch.cos(phi+w*x)\n",
        "    sin = torch.sin(phi+w*x)\n",
        "    exp = torch.exp(-d*x)\n",
        "    y  = exp*2*A*cos\n",
        "    return y"
      ],
      "metadata": {
        "id": "8ZNVq_5m1mwZ"
      },
      "execution_count": null,
      "outputs": []
    },
    {
      "cell_type": "code",
      "source": [
        "x = torch.linspace(0, 2, 1000).view(-1, 1)\n",
        "y = oscillator(2, 20, x).view(-1, 1)\n",
        "\n",
        "x_data = x[0:200:10]\n",
        "y_data = y[0:200:10]"
      ],
      "metadata": {
        "id": "lWMvnTtm2kgt"
      },
      "execution_count": null,
      "outputs": []
    },
    {
      "cell_type": "code",
      "source": [
        "print(x_data.shape)"
      ],
      "metadata": {
        "colab": {
          "base_uri": "https://localhost:8080/"
        },
        "id": "rAZ-RRXuLUaf",
        "outputId": "da50795d-5f12-40a7-81f6-023e785a1d15"
      },
      "execution_count": null,
      "outputs": [
        {
          "output_type": "stream",
          "name": "stdout",
          "text": [
            "torch.Size([20, 1])\n"
          ]
        }
      ]
    },
    {
      "cell_type": "code",
      "source": [
        "plt.plot(x, y, label='Eqn')\n",
        "plt.scatter(x_data, y_data, label='Data Points', color='orange')\n",
        "plt.show()"
      ],
      "metadata": {
        "colab": {
          "base_uri": "https://localhost:8080/",
          "height": 265
        },
        "id": "KiwN6NWE27OF",
        "outputId": "65d66d1c-c4bc-4177-ae55-4dac6c45a0f5"
      },
      "execution_count": null,
      "outputs": [
        {
          "output_type": "display_data",
          "data": {
            "text/plain": [
              "<Figure size 432x288 with 1 Axes>"
            ],
            "image/png": "[encoded data removed]"
          },
          "metadata": {
            "needs_background": "light"
          }
        }
      ]
    },
    {
      "cell_type": "code",
      "source": [
        "class NNApprox_fn(nn.Module):\n",
        "  def __init__(self):\n",
        "    super().__init__()\n",
        "\n",
        "    self.FC1 = nn.Linear(1, 64)\n",
        "    self.AC1 = nn.Tanh()\n",
        "\n",
        "    self.FC2 = nn.Linear(64, 1024)\n",
        "    self.AC2 = nn.Tanh()\n",
        "\n",
        "    self.FC3 = nn.Linear(1024, 1)\n",
        "    self.AC3 = nn.Tanh()\n",
        "\n",
        "    self.FC4 = nn.Linear(64, 1)\n",
        "\n",
        "  def forward(self, x):\n",
        "    out = self.AC1(self.FC1(x))\n",
        "    out = self.AC2(self.FC2(out))\n",
        "    out = self.FC3(out)\n",
        "    # out = self.FC4(out)\n",
        "    return out"
      ],
      "metadata": {
        "id": "MkX4y8Gw5l7P"
      },
      "execution_count": null,
      "outputs": []
    },
    {
      "cell_type": "code",
      "source": [
        "epochs = 2000\n",
        "lr = 0.001\n",
        "model_vanilla = NNApprox_fn()\n",
        "optimizer = torch.optim.Adam(model_vanilla.parameters(), lr=lr)\n",
        "\n",
        "device = (torch.device('cuda') if torch.cuda.is_available() else torch.device('cpu'))\n",
        "model_vanilla = model_vanilla.to(device)"
      ],
      "metadata": {
        "id": "PdqjpMmqAT4x"
      },
      "execution_count": null,
      "outputs": []
    },
    {
      "cell_type": "code",
      "source": [
        "for _ in tqdm(range(epochs)):\n",
        "  \n",
        "  x_data = x_data.to(device)\n",
        "  y_data = y_data.to(device)\n",
        "  \n",
        "  y_pred = model_vanilla(x_data)\n",
        "  loss = torch.mean((y_pred-y_data)**2)\n",
        "  \n",
        "  optimizer.zero_grad()\n",
        "  loss.backward()\n",
        "  optimizer.step()"
      ],
      "metadata": {
        "colab": {
          "base_uri": "https://localhost:8080/"
        },
        "id": "rDD3WpjLHKD_",
        "outputId": "49c4c9ca-1360-40c6-e68e-e491d05d9957"
      },
      "execution_count": null,
      "outputs": [
        {
          "output_type": "stream",
          "name": "stderr",
          "text": [
            "100%|██████████| 2000/2000 [00:02<00:00, 681.20it/s]\n"
          ]
        }
      ]
    },
    {
      "cell_type": "code",
      "source": [
        "with torch.no_grad():\n",
        "  y_w_model = model_vanilla(x)"
      ],
      "metadata": {
        "id": "cQlINZbhH8Hw"
      },
      "execution_count": null,
      "outputs": []
    },
    {
      "cell_type": "code",
      "source": [
        "plt.plot(x, y, color='blue', label='Equation')\n",
        "plt.scatter(x_data, y_data, color='orange', label='Data Points')\n",
        "plt.plot(x,y_w_model, color='red', label='NN Model')\n",
        "plt.legend()\n",
        "plt.show()"
      ],
      "metadata": {
        "colab": {
          "base_uri": "https://localhost:8080/",
          "height": 265
        },
        "id": "v5U5UwcHJYGW",
        "outputId": "72dfc590-0c64-450b-b060-bc6c4f5ff899"
      },
      "execution_count": null,
      "outputs": [
        {
          "output_type": "display_data",
          "data": {
            "text/plain": [
              "<Figure size 432x288 with 1 Axes>"
            ],
            "image/png": "[encoded data removed]"
          },
          "metadata": {
            "needs_background": "light"
          }
        }
      ]
    },
    {
      "cell_type": "code",
      "source": [
        "epochs = 40000\n",
        "lr = 0.0001\n",
        "model_w_de = NNApprox_fn()\n",
        "optimizer = torch.optim.Adam(model_w_de.parameters(), lr=lr)"
      ],
      "metadata": {
        "id": "SYin5_bJP7sq"
      },
      "execution_count": null,
      "outputs": []
    },
    {
      "cell_type": "code",
      "source": [
        "x_de = torch.linspace(0.0, 2.0, 100).view(-1, 1).requires_grad_(True)\n",
        "d, w = 2, 20\n",
        "mu, k = 2*d, w**2\n",
        "for _ in tqdm(range(epochs)):\n",
        "\n",
        "  #Data Loss\n",
        "  y_preds = model_w_de(x_data)\n",
        "  data_loss = torch.mean((y_preds-y_data)**2)\n",
        "\n",
        "  #Equation Loss\n",
        "  y_eqn = model_w_de(x_de)\n",
        "  d_f = torch.autograd.grad(y_eqn, x_de, torch.ones_like(y_eqn), create_graph=True)[0]\n",
        "  d_f2 = torch.autograd.grad(d_f, x_de, torch.ones_like(d_f), create_graph = True)[0]\n",
        "  residual = d_f2 + mu*d_f + k*y_eqn\n",
        "  de_loss = (1e-4)*torch.mean(residual**2)\n",
        "\n",
        "  loss = data_loss + de_loss\n",
        "  \n",
        "  optimizer.zero_grad()\n",
        "  loss.backward()\n",
        "  optimizer.step()"
      ],
      "metadata": {
        "colab": {
          "base_uri": "https://localhost:8080/"
        },
        "id": "vWIQTW-UQDkC",
        "outputId": "f981bee5-ea46-458c-af95-90a379f5285e"
      },
      "execution_count": null,
      "outputs": [
        {
          "output_type": "stream",
          "name": "stderr",
          "text": [
            "100%|██████████| 40000/40000 [07:46<00:00, 85.72it/s]\n"
          ]
        }
      ]
    },
    {
      "cell_type": "code",
      "source": [
        "with torch.no_grad():\n",
        "  y_2 = model_w_de(x)"
      ],
      "metadata": {
        "id": "4M9zGxBjSxDB"
      },
      "execution_count": null,
      "outputs": []
    },
    {
      "cell_type": "code",
      "source": [
        "plt.plot(x, y, color='blue', label='Equation')\n",
        "plt.scatter(x_data, y_data, color='orange', label='Data Points')\n",
        "plt.plot(x,y_w_model, color='red', label='NN Model')\n",
        "plt.plot(x,y_2, color='black', label='NN w DE')\n",
        "plt.legend()\n",
        "plt.show()"
      ],
      "metadata": {
        "colab": {
          "base_uri": "https://localhost:8080/",
          "height": 265
        },
        "id": "b4eH2zaXS_bK",
        "outputId": "223d6dac-62d5-4a1e-f97f-a6eac450efca"
      },
      "execution_count": null,
      "outputs": [
        {
          "output_type": "display_data",
          "data": {
            "text/plain": [
              "<Figure size 432x288 with 1 Axes>"
            ],
            "image/png": "[encoded data removed]"
          },
          "metadata": {
            "needs_background": "light"
          }
        }
      ]
    }
  ]
}