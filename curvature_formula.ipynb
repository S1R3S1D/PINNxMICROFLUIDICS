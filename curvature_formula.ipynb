{
 "cells": [
  {
   "cell_type": "code",
   "execution_count": 1,
   "metadata": {},
   "outputs": [],
   "source": [
    "from sympy.vector import CoordSys3D, Del, divergence, gradient\n",
    "from sympy import Function, symbols"
   ]
  },
  {
   "cell_type": "code",
   "execution_count": 2,
   "metadata": {},
   "outputs": [
    {
     "data": {
      "text/latex": [
       "$\\displaystyle \\frac{\\left(- \\frac{\\partial}{\\partial \\mathbf{{x}_{}}} \\alpha{\\left(\\mathbf{{x}_{}},\\mathbf{{y}_{}} \\right)} \\frac{\\partial^{2}}{\\partial \\mathbf{{x}_{}}^{2}} \\alpha{\\left(\\mathbf{{x}_{}},\\mathbf{{y}_{}} \\right)} - \\frac{\\partial}{\\partial \\mathbf{{y}_{}}} \\alpha{\\left(\\mathbf{{x}_{}},\\mathbf{{y}_{}} \\right)} \\frac{\\partial^{2}}{\\partial \\mathbf{{y}_{}}\\partial \\mathbf{{x}_{}}} \\alpha{\\left(\\mathbf{{x}_{}},\\mathbf{{y}_{}} \\right)}\\right) \\frac{\\partial}{\\partial \\mathbf{{x}_{}}} \\alpha{\\left(\\mathbf{{x}_{}},\\mathbf{{y}_{}} \\right)}}{\\left(\\left(\\frac{\\partial}{\\partial \\mathbf{{x}_{}}} \\alpha{\\left(\\mathbf{{x}_{}},\\mathbf{{y}_{}} \\right)}\\right)^{2} + \\left(\\frac{\\partial}{\\partial \\mathbf{{y}_{}}} \\alpha{\\left(\\mathbf{{x}_{}},\\mathbf{{y}_{}} \\right)}\\right)^{2}\\right)^{\\frac{3}{2}}} + \\frac{\\left(- \\frac{\\partial}{\\partial \\mathbf{{x}_{}}} \\alpha{\\left(\\mathbf{{x}_{}},\\mathbf{{y}_{}} \\right)} \\frac{\\partial^{2}}{\\partial \\mathbf{{y}_{}}\\partial \\mathbf{{x}_{}}} \\alpha{\\left(\\mathbf{{x}_{}},\\mathbf{{y}_{}} \\right)} - \\frac{\\partial}{\\partial \\mathbf{{y}_{}}} \\alpha{\\left(\\mathbf{{x}_{}},\\mathbf{{y}_{}} \\right)} \\frac{\\partial^{2}}{\\partial \\mathbf{{y}_{}}^{2}} \\alpha{\\left(\\mathbf{{x}_{}},\\mathbf{{y}_{}} \\right)}\\right) \\frac{\\partial}{\\partial \\mathbf{{y}_{}}} \\alpha{\\left(\\mathbf{{x}_{}},\\mathbf{{y}_{}} \\right)}}{\\left(\\left(\\frac{\\partial}{\\partial \\mathbf{{x}_{}}} \\alpha{\\left(\\mathbf{{x}_{}},\\mathbf{{y}_{}} \\right)}\\right)^{2} + \\left(\\frac{\\partial}{\\partial \\mathbf{{y}_{}}} \\alpha{\\left(\\mathbf{{x}_{}},\\mathbf{{y}_{}} \\right)}\\right)^{2}\\right)^{\\frac{3}{2}}} + \\frac{\\frac{\\partial^{2}}{\\partial \\mathbf{{x}_{}}^{2}} \\alpha{\\left(\\mathbf{{x}_{}},\\mathbf{{y}_{}} \\right)}}{\\sqrt{\\left(\\frac{\\partial}{\\partial \\mathbf{{x}_{}}} \\alpha{\\left(\\mathbf{{x}_{}},\\mathbf{{y}_{}} \\right)}\\right)^{2} + \\left(\\frac{\\partial}{\\partial \\mathbf{{y}_{}}} \\alpha{\\left(\\mathbf{{x}_{}},\\mathbf{{y}_{}} \\right)}\\right)^{2}}} + \\frac{\\frac{\\partial^{2}}{\\partial \\mathbf{{y}_{}}^{2}} \\alpha{\\left(\\mathbf{{x}_{}},\\mathbf{{y}_{}} \\right)}}{\\sqrt{\\left(\\frac{\\partial}{\\partial \\mathbf{{x}_{}}} \\alpha{\\left(\\mathbf{{x}_{}},\\mathbf{{y}_{}} \\right)}\\right)^{2} + \\left(\\frac{\\partial}{\\partial \\mathbf{{y}_{}}} \\alpha{\\left(\\mathbf{{x}_{}},\\mathbf{{y}_{}} \\right)}\\right)^{2}}}$"
      ],
      "text/plain": [
       "(-Derivative(\\alpha(.x, .y), .x)*Derivative(\\alpha(.x, .y), (.x, 2)) - Derivative(\\alpha(.x, .y), .y)*Derivative(\\alpha(.x, .y), .x, .y))*Derivative(\\alpha(.x, .y), .x)/(Derivative(\\alpha(.x, .y), .x)**2 + Derivative(\\alpha(.x, .y), .y)**2)**(3/2) + (-Derivative(\\alpha(.x, .y), .x)*Derivative(\\alpha(.x, .y), .x, .y) - Derivative(\\alpha(.x, .y), .y)*Derivative(\\alpha(.x, .y), (.y, 2)))*Derivative(\\alpha(.x, .y), .y)/(Derivative(\\alpha(.x, .y), .x)**2 + Derivative(\\alpha(.x, .y), .y)**2)**(3/2) + Derivative(\\alpha(.x, .y), (.x, 2))/sqrt(Derivative(\\alpha(.x, .y), .x)**2 + Derivative(\\alpha(.x, .y), .y)**2) + Derivative(\\alpha(.x, .y), (.y, 2))/sqrt(Derivative(\\alpha(.x, .y), .x)**2 + Derivative(\\alpha(.x, .y), .y)**2)"
      ]
     },
     "execution_count": 2,
     "metadata": {},
     "output_type": "execute_result"
    }
   ],
   "source": [
    "C = CoordSys3D('')\n",
    "f = Function(r'\\alpha')(C.x,C.y)\n",
    "n  = gradient(f)\n",
    "n_hat = n/n.magnitude()\n",
    "k = divergence(n_hat) # the negative sign is already accounted in the Cartesian form of the PDEs\n",
    "k"
   ]
  }
 ],
 "metadata": {
  "kernelspec": {
   "display_name": "Python 3.9.13 ('deep')",
   "language": "python",
   "name": "python3"
  },
  "language_info": {
   "codemirror_mode": {
    "name": "ipython",
    "version": 3
   },
   "file_extension": ".py",
   "mimetype": "text/x-python",
   "name": "python",
   "nbconvert_exporter": "python",
   "pygments_lexer": "ipython3",
   "version": "3.9.13"
  },
  "orig_nbformat": 4,
  "vscode": {
   "interpreter": {
    "hash": "557c8e246290dee81b5d857d2dd5e09755044b5700f2b36d1fdca0c3ab48fdda"
   }
  }
 },
 "nbformat": 4,
 "nbformat_minor": 2
}
